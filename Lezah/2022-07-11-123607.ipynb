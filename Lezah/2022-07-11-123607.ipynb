{
 "cells": [
  {
   "cell_type": "code",
   "execution_count": 2,
   "metadata": {
    "collapsed": false
   },
   "outputs": [
    {
     "ename": "SyntaxError",
     "evalue": "Unexpected token '<'",
     "output_type": "error",
     "traceback": [
      "evalmachine.<anonymous>:1",
      "<IDOCTYPE html>",
      "^",
      "",
      "SyntaxError: Unexpected token '<'",
      "    at new Script (vm.js:102:7)",
      "    at createScript (vm.js:262:10)",
      "    at Object.runInThisContext (vm.js:310:10)",
      "    at run ([eval]:1020:15)",
      "    at onRunRequest ([eval]:864:18)",
      "    at onMessage ([eval]:828:13)",
      "    at process.emit (events.js:400:28)",
      "    at emit (internal/child_process.js:912:12)",
      "    at processTicksAndRejections (internal/process/task_queues.js:83:21)"
     ]
    }
   ],
   "source": [
    "<IDOCTYPE html>\n",
    "\n"
   ]
  },
  {
   "cell_type": "code",
   "execution_count": 0,
   "metadata": {
    "collapsed": false
   },
   "outputs": [
   ],
   "source": [
    "title>My First Webpage</titles\n",
    "</head>\n",
    "<body>\n",
    "\n",
    "My First Webpage\n",
    "</his\n",
    "<D>This\n",
    "is a paragraph...</p>\n",
    "</body>\n",
    "</htmla\n"
   ]
  }
 ],
 "metadata": {
  "kernelspec": {
   "display_name": "JavaScript (Node.js)",
   "language": "javascript",
   "name": "javascript",
   "resource_dir": "/usr/local/share/jupyter/kernels/javascript"
  },
  "language_info": {
   "file_extension": ".js",
   "mimetype": "application/javascript",
   "name": "javascript",
   "version": "14.19.1"
  }
 },
 "nbformat": 4,
 "nbformat_minor": 4
}